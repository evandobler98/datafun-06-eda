{
 "cells": [
  {
   "cell_type": "markdown",
   "metadata": {},
   "source": [
    "# **Project 6 - EDA**\n",
    "## **Author:** Evan Dobler\n",
    "## **Date:** 9/30/2024\n",
    "## **Overview:** Create a custom exploratory data analysis (EDA) "
   ]
  },
  {
   "cell_type": "code",
   "execution_count": 15,
   "metadata": {},
   "outputs": [],
   "source": [
    "import matplotlib.pyplot as plt\n",
    "import pandas as pd\n",
    "import seaborn as sns\n",
    "import numpy as np \n",
    "import csv"
   ]
  },
  {
   "cell_type": "code",
   "execution_count": 16,
   "metadata": {},
   "outputs": [
    {
     "name": "stdout",
     "output_type": "stream",
     "text": [
      "   S.NO               Name Nationality  Current Rank Previous Year Rank  \\\n",
      "0     1         Mike Tyson         USA             1                NaN   \n",
      "1     2     Buster Douglas         USA             2                NaN   \n",
      "2     3  Sugar Ray Leonard         USA             3                NaN   \n",
      "3     4       Ayrton Senna      Brazil             4                NaN   \n",
      "4     5        Alain Prost      France             5                NaN   \n",
      "\n",
      "         Sport  Year  earnings ($ million)  \n",
      "0       boxing  1990                  28.6  \n",
      "1       boxing  1990                  26.0  \n",
      "2       boxing  1990                  13.0  \n",
      "3  auto racing  1990                  10.0  \n",
      "4  auto racing  1990                   9.0  \n"
     ]
    }
   ],
   "source": [
    "# Load the AllstarFull dataset into Dataframe\n",
    "df = pd.read_csv('/Users/evandobler/Downloads/athlete_pay.csv')\n",
    "print(df.head())"
   ]
  }
 ],
 "metadata": {
  "kernelspec": {
   "display_name": ".venv",
   "language": "python",
   "name": "python3"
  },
  "language_info": {
   "codemirror_mode": {
    "name": "ipython",
    "version": 3
   },
   "file_extension": ".py",
   "mimetype": "text/x-python",
   "name": "python",
   "nbconvert_exporter": "python",
   "pygments_lexer": "ipython3",
   "version": "3.12.4"
  }
 },
 "nbformat": 4,
 "nbformat_minor": 2
}
